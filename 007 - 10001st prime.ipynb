{
 "cells": [
  {
   "cell_type": "markdown",
   "id": "80092b74",
   "metadata": {},
   "source": [
    "# 10001st prime\n",
    "\n",
    "By listing the first six prime numbers: 2, 3, 5, 7, 11, and 13, we can see that the 6th prime is 13.\n",
    "\n",
    "What is the 10,001st prime number?"
   ]
  },
  {
   "cell_type": "code",
   "execution_count": 47,
   "id": "627e8409",
   "metadata": {},
   "outputs": [],
   "source": [
    "# Re-use is_prime function from Problem 003:\n",
    "def is_prime(n):\n",
    "    \"\"\"\n",
    "    Primality test using 6k+-1 optimization. \n",
    "    Based on the fact that all primes greater than 3 are of the form 6k ± 1 (k is an integer > 0)\n",
    "    \"\"\"\n",
    "    if n <= 3:\n",
    "        return n > 1\n",
    "    if n % 2 == 0 or n % 3 == 0:\n",
    "        return False\n",
    "    i = 5\n",
    "    while i ** 2 <= n:\n",
    "        if n % i == 0 or n % (i + 2) == 0:\n",
    "            return False\n",
    "        i += 6\n",
    "    return True"
   ]
  },
  {
   "cell_type": "code",
   "execution_count": 58,
   "id": "04e971de",
   "metadata": {},
   "outputs": [
    {
     "name": "stdout",
     "output_type": "stream",
     "text": [
      "104729 is the 10000 prime\n",
      "104743 is the 10001 prime\n"
     ]
    }
   ],
   "source": [
    "prime_count = 1\n",
    "i = 0\n",
    "while (prime_count < 10002):\n",
    "    if is_prime(i):\n",
    "        if prime_count > 9999:\n",
    "            print(f'{i} is the {prime_count} prime')\n",
    "        prime_count = prime_count + 1\n",
    "    i = i + 1"
   ]
  },
  {
   "cell_type": "code",
   "execution_count": null,
   "id": "22677c41",
   "metadata": {},
   "outputs": [],
   "source": []
  }
 ],
 "metadata": {
  "kernelspec": {
   "display_name": "Python 3",
   "language": "python",
   "name": "python3"
  },
  "language_info": {
   "codemirror_mode": {
    "name": "ipython",
    "version": 3
   },
   "file_extension": ".py",
   "mimetype": "text/x-python",
   "name": "python",
   "nbconvert_exporter": "python",
   "pygments_lexer": "ipython3",
   "version": "3.8.11"
  }
 },
 "nbformat": 4,
 "nbformat_minor": 5
}
