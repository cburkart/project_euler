{
 "cells": [
  {
   "cell_type": "markdown",
   "id": "28f1b7ce",
   "metadata": {},
   "source": [
    "# Smallest multiple\n",
    "\n",
    "2520 is the smallest number that can be divided by each of the numbers from 1 to 10 without any remainder.\n",
    "\n",
    "What is the smallest positive number that is evenly divisible by all of the numbers from 1 to 20?"
   ]
  },
  {
   "cell_type": "code",
   "execution_count": 44,
   "id": "fa05d293",
   "metadata": {},
   "outputs": [
    {
     "data": {
      "text/plain": [
       "[1, 2, 3, 4, 5, 6, 7, 8, 9, 10, 11, 12, 13, 14, 15, 16, 17, 18, 19, 20]"
      ]
     },
     "execution_count": 44,
     "metadata": {},
     "output_type": "execute_result"
    }
   ],
   "source": [
    "checklist = [x for x in range(1,21)]\n",
    "checklist"
   ]
  },
  {
   "cell_type": "code",
   "execution_count": 45,
   "id": "a3991df3",
   "metadata": {},
   "outputs": [],
   "source": [
    "def divcheck(n: int, checklist: list):\n",
    "    output = []\n",
    "    for i in checklist:\n",
    "        if n%i == 0:\n",
    "            output.append(0)\n",
    "        else:\n",
    "            output.append(1)\n",
    "    return(sum(output)==0)"
   ]
  },
  {
   "cell_type": "code",
   "execution_count": 49,
   "id": "574e03f1",
   "metadata": {
    "scrolled": true
   },
   "outputs": [
    {
     "name": "stdout",
     "output_type": "stream",
     "text": [
      "232792560\n"
     ]
    }
   ],
   "source": [
    "solved = False\n",
    "i = 2520\n",
    "\n",
    "while (solved==False):\n",
    "    #print(i)\n",
    "    solved = divcheck(i,checklist)\n",
    "    i = i + checklist[-1]\n",
    "    \n",
    "print(i-(checklist[-1]))\n",
    "# This took too long to compute, there must be a solution that's math-based..."
   ]
  },
  {
   "cell_type": "code",
   "execution_count": null,
   "id": "fdd270c7",
   "metadata": {},
   "outputs": [],
   "source": []
  }
 ],
 "metadata": {
  "kernelspec": {
   "display_name": "Python 3 (ipykernel)",
   "language": "python",
   "name": "python3"
  },
  "language_info": {
   "codemirror_mode": {
    "name": "ipython",
    "version": 3
   },
   "file_extension": ".py",
   "mimetype": "text/x-python",
   "name": "python",
   "nbconvert_exporter": "python",
   "pygments_lexer": "ipython3",
   "version": "3.9.7"
  }
 },
 "nbformat": 4,
 "nbformat_minor": 5
}
