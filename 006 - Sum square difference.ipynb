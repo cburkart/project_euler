{
 "cells": [
  {
   "cell_type": "markdown",
   "id": "19fab8b1",
   "metadata": {},
   "source": [
    "# Sum square difference\n",
    "\n",
    "The sum of the squares of the first ten natural numbers is,\n",
    "\n",
    "$1^2 + 2^2 + \\cdot + 10^2 = 385$\n",
    "\n",
    "The square of the sum of the first ten natural numbers is,\n",
    "\n",
    "$\\left( 1 + 2 + \\cdot + 10 \\right)^2 = 55^2 = 3025 $\n",
    "\n",
    "Hence the difference between the sum of the squares of the first ten natural numbers and the square of the sum is $3025 - 385 = 2640$.\n",
    "\n",
    "Find the difference between the sum of the squares of the first one hundred natural numbers and the square of the sum."
   ]
  },
  {
   "cell_type": "code",
   "execution_count": 7,
   "id": "185642b5",
   "metadata": {},
   "outputs": [],
   "source": [
    "n = 100"
   ]
  },
  {
   "cell_type": "code",
   "execution_count": 8,
   "id": "a344bfd5",
   "metadata": {},
   "outputs": [
    {
     "data": {
      "text/plain": [
       "338350"
      ]
     },
     "execution_count": 8,
     "metadata": {},
     "output_type": "execute_result"
    }
   ],
   "source": [
    "sum_squares = sum([a**2 for a in range(1,n+1)])\n",
    "sum_squares"
   ]
  },
  {
   "cell_type": "code",
   "execution_count": 9,
   "id": "b942f1ac",
   "metadata": {},
   "outputs": [],
   "source": [
    "squared_sum = (sum([a for a in range(1,n+1)]))**2"
   ]
  },
  {
   "cell_type": "code",
   "execution_count": 10,
   "id": "6f5b8eb6",
   "metadata": {},
   "outputs": [
    {
     "data": {
      "text/plain": [
       "25502500"
      ]
     },
     "execution_count": 10,
     "metadata": {},
     "output_type": "execute_result"
    }
   ],
   "source": [
    "squared_sum"
   ]
  },
  {
   "cell_type": "code",
   "execution_count": 11,
   "id": "fcc4ad7c",
   "metadata": {},
   "outputs": [
    {
     "data": {
      "text/plain": [
       "25164150"
      ]
     },
     "execution_count": 11,
     "metadata": {},
     "output_type": "execute_result"
    }
   ],
   "source": [
    "squared_sum - sum_squares"
   ]
  },
  {
   "cell_type": "code",
   "execution_count": null,
   "id": "8c586826",
   "metadata": {},
   "outputs": [],
   "source": []
  }
 ],
 "metadata": {
  "kernelspec": {
   "display_name": "Python 3",
   "language": "python",
   "name": "python3"
  },
  "language_info": {
   "codemirror_mode": {
    "name": "ipython",
    "version": 3
   },
   "file_extension": ".py",
   "mimetype": "text/x-python",
   "name": "python",
   "nbconvert_exporter": "python",
   "pygments_lexer": "ipython3",
   "version": "3.8.11"
  }
 },
 "nbformat": 4,
 "nbformat_minor": 5
}
