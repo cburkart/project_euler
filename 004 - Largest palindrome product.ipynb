{
 "cells": [
  {
   "cell_type": "markdown",
   "id": "849bee9f",
   "metadata": {},
   "source": [
    "# Largest palindrome product\n",
    "\n",
    "A palindromic number reads the same both ways. The largest palindrome made from the product of two 2-digit numbers is 9009 = 91 × 99.\n",
    "\n",
    "Find the largest palindrome made from the product of two 3-digit numbers."
   ]
  },
  {
   "cell_type": "code",
   "execution_count": 1,
   "id": "f6d1d80d",
   "metadata": {},
   "outputs": [
    {
     "data": {
      "text/plain": [
       "998001"
      ]
     },
     "execution_count": 1,
     "metadata": {},
     "output_type": "execute_result"
    }
   ],
   "source": [
    "# Plan is to convert number to string and then check \n",
    "999*999"
   ]
  },
  {
   "cell_type": "code",
   "execution_count": null,
   "id": "4ed542ec",
   "metadata": {},
   "outputs": [],
   "source": [
    "def is_palindrome(x):\n",
    "    stringx = str(x)\n",
    "    if len(stringx)"
   ]
  },
  {
   "cell_type": "code",
   "execution_count": 6,
   "id": "ac6adc87",
   "metadata": {},
   "outputs": [
    {
     "data": {
      "text/plain": [
       "False"
      ]
     },
     "execution_count": 6,
     "metadata": {},
     "output_type": "execute_result"
    }
   ],
   "source": [
    "len(str(999))%2==0"
   ]
  },
  {
   "cell_type": "code",
   "execution_count": null,
   "id": "a42c58d0",
   "metadata": {},
   "outputs": [],
   "source": []
  }
 ],
 "metadata": {
  "kernelspec": {
   "display_name": "Python 3",
   "language": "python",
   "name": "python3"
  },
  "language_info": {
   "codemirror_mode": {
    "name": "ipython",
    "version": 3
   },
   "file_extension": ".py",
   "mimetype": "text/x-python",
   "name": "python",
   "nbconvert_exporter": "python",
   "pygments_lexer": "ipython3",
   "version": "3.8.11"
  }
 },
 "nbformat": 4,
 "nbformat_minor": 5
}
