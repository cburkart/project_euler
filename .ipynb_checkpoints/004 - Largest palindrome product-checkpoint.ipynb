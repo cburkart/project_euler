{
 "cells": [
  {
   "cell_type": "markdown",
   "id": "849bee9f",
   "metadata": {},
   "source": [
    "# Largest palindrome product\n",
    "\n",
    "A palindromic number reads the same both ways. The largest palindrome made from the product of two 2-digit numbers is 9009 = 91 × 99.\n",
    "\n",
    "Find the largest palindrome made from the product of two 3-digit numbers."
   ]
  },
  {
   "cell_type": "code",
   "execution_count": 1,
   "id": "f6d1d80d",
   "metadata": {},
   "outputs": [
    {
     "data": {
      "text/plain": [
       "998001"
      ]
     },
     "execution_count": 1,
     "metadata": {},
     "output_type": "execute_result"
    }
   ],
   "source": [
    "# Plan is to convert number to string and then check \n",
    "999*999"
   ]
  },
  {
   "cell_type": "code",
   "execution_count": 34,
   "id": "4ed542ec",
   "metadata": {
    "scrolled": true
   },
   "outputs": [],
   "source": [
    "def is_palindrome(x):\n",
    "    stringx = str(x)\n",
    "    if len(stringx)%2==0:  # Case where the number mirrors exactly\n",
    "        first  = stringx[:int(len(stringx)/2)] \n",
    "        second = stringx[int(len(stringx)/2):]\n",
    "    else:                  # Case where the number mirrors around the central digit\n",
    "        first = stringx[:int((len(stringx)-1)/2)] \n",
    "        second = stringx[int((len(stringx)-1)/2+1):]\n",
    "    return(first==second[::-1])  # Compare the first half with the reverse-string of the second half"
   ]
  },
  {
   "cell_type": "code",
   "execution_count": 48,
   "id": "7ba52efa",
   "metadata": {
    "scrolled": true
   },
   "outputs": [
    {
     "name": "stdout",
     "output_type": "stream",
     "text": [
      "993 x 913 = 906609\n",
      "968 x 916 = 886688\n",
      "962 x 924 = 888888\n",
      "932 x 924 = 861168\n",
      "924 x 962 = 888888\n",
      "916 x 968 = 886688\n",
      "914 x 902 = 824428\n",
      "913 x 993 = 906609\n",
      "909 x 902 = 819918\n",
      "902 x 914 = 824428\n"
     ]
    }
   ],
   "source": [
    "# Run through possible combinations of products starting with 999*999 using nested loops\n",
    "for i in range(999,900,-1):\n",
    "    for j in range (999,900,-1):\n",
    "        if is_palindrome(i*j):\n",
    "            print(str(i) + ' x ' + str(j) + ' = ' + str(i*j))\n",
    "            break\n",
    "        "
   ]
  },
  {
   "cell_type": "code",
   "execution_count": null,
   "id": "31e589df",
   "metadata": {},
   "outputs": [],
   "source": []
  }
 ],
 "metadata": {
  "kernelspec": {
   "display_name": "Python 3 (ipykernel)",
   "language": "python",
   "name": "python3"
  },
  "language_info": {
   "codemirror_mode": {
    "name": "ipython",
    "version": 3
   },
   "file_extension": ".py",
   "mimetype": "text/x-python",
   "name": "python",
   "nbconvert_exporter": "python",
   "pygments_lexer": "ipython3",
   "version": "3.9.7"
  }
 },
 "nbformat": 4,
 "nbformat_minor": 5
}
