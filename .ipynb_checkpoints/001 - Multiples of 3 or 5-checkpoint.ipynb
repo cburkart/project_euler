{
 "cells": [
  {
   "cell_type": "markdown",
   "id": "7a1cfde6",
   "metadata": {},
   "source": [
    "# Multiples of 3 or 5\n",
    "\n",
    "If we list all the natural numbers below 10 that are multiples of 3 or 5, we get 3, 5, 6 and 9. The sum of these multiples is 23.\n",
    "\n",
    "Find the sum of all the multiples of 3 or 5 below 1000."
   ]
  },
  {
   "cell_type": "code",
   "execution_count": 5,
   "id": "682a79ab",
   "metadata": {},
   "outputs": [],
   "source": [
    "def mult3or5(x):\n",
    "    \"\"\"\n",
    "    Function to determine if number x is divisible by 3 or 5\n",
    "    \"\"\"\n",
    "    return(x % 3 == 0 or x % 5 == 0)"
   ]
  },
  {
   "cell_type": "code",
   "execution_count": 22,
   "id": "c06f6e35",
   "metadata": {},
   "outputs": [],
   "source": [
    "# Practice using list comprehension to make a list, then sum all of the elements to get the answer\n",
    "multiples = [x for x in range(1,1000) if mult3or5(x)]"
   ]
  },
  {
   "cell_type": "code",
   "execution_count": 23,
   "id": "623c22d8",
   "metadata": {},
   "outputs": [
    {
     "data": {
      "text/plain": [
       "233168"
      ]
     },
     "execution_count": 23,
     "metadata": {},
     "output_type": "execute_result"
    }
   ],
   "source": [
    "sum(multiples)"
   ]
  }
 ],
 "metadata": {
  "kernelspec": {
   "display_name": "Python 3",
   "language": "python",
   "name": "python3"
  },
  "language_info": {
   "codemirror_mode": {
    "name": "ipython",
    "version": 3
   },
   "file_extension": ".py",
   "mimetype": "text/x-python",
   "name": "python",
   "nbconvert_exporter": "python",
   "pygments_lexer": "ipython3",
   "version": "3.8.11"
  }
 },
 "nbformat": 4,
 "nbformat_minor": 5
}
