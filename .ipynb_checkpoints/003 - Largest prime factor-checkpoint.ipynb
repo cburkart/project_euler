{
 "cells": [
  {
   "cell_type": "markdown",
   "id": "c46c4adb",
   "metadata": {},
   "source": [
    "# Largest prime factor\n",
    "\n",
    "The prime factors of 13195 are 5, 7, 13 and 29.\n",
    "\n",
    "What is the largest prime factor of the number 600851475143?"
   ]
  },
  {
   "cell_type": "code",
   "execution_count": 137,
   "id": "198a6c5a",
   "metadata": {},
   "outputs": [],
   "source": [
    "# Problem: for large n, computation cost increases too rapidly using a straightforward approach\n",
    "#\n",
    "#target_n = 13195\n",
    "target_n = 600851475143"
   ]
  },
  {
   "cell_type": "code",
   "execution_count": 138,
   "id": "a32eb428",
   "metadata": {},
   "outputs": [
    {
     "data": {
      "text/plain": [
       "False"
      ]
     },
     "execution_count": 138,
     "metadata": {},
     "output_type": "execute_result"
    }
   ],
   "source": [
    "def is_prime(n):\n",
    "    \"\"\"\n",
    "    Primality test using 6k+-1 optimization. \n",
    "    Based on the fact that all primes greater than 3 are of the form 6k ± 1 (k is an integer > 0)\n",
    "    \"\"\"\n",
    "    if n <= 3:\n",
    "        return n > 1\n",
    "    if n % 2 == 0 or n % 3 == 0:\n",
    "        return False\n",
    "    i = 5\n",
    "    while i ** 2 <= n:\n",
    "        if n % i == 0 or n % (i + 2) == 0:\n",
    "            return False\n",
    "        i += 6\n",
    "    return True\n",
    "\n",
    "# Test out on the large \"actual\" target_n:\n",
    "is_prime(600851475143)"
   ]
  },
  {
   "cell_type": "code",
   "execution_count": 143,
   "id": "42710664",
   "metadata": {},
   "outputs": [],
   "source": [
    "# Construct factor pairs and stop when the \"rhs\" (larger) of the pair is a prime number\n",
    "lhs = [1]\n",
    "rhs = [target_n]\n",
    "for i in range(2,target_n):\n",
    "    if target_n % i == 0:\n",
    "        lhs.append(i)\n",
    "        rhs.append(int(target_n/i))\n",
    "        if is_prime(rhs[-1]):\n",
    "            break"
   ]
  },
  {
   "cell_type": "code",
   "execution_count": 144,
   "id": "91614250",
   "metadata": {},
   "outputs": [
    {
     "data": {
      "text/plain": [
       "6857"
      ]
     },
     "execution_count": 144,
     "metadata": {},
     "output_type": "execute_result"
    }
   ],
   "source": [
    "rhs[-1]"
   ]
  }
 ],
 "metadata": {
  "kernelspec": {
   "display_name": "Python 3",
   "language": "python",
   "name": "python3"
  },
  "language_info": {
   "codemirror_mode": {
    "name": "ipython",
    "version": 3
   },
   "file_extension": ".py",
   "mimetype": "text/x-python",
   "name": "python",
   "nbconvert_exporter": "python",
   "pygments_lexer": "ipython3",
   "version": "3.8.11"
  }
 },
 "nbformat": 4,
 "nbformat_minor": 5
}
